{
 "cells": [
  {
   "cell_type": "code",
   "execution_count": 1,
   "metadata": {},
   "outputs": [],
   "source": [
    "import numpy as np\n",
    "import namegenerator"
   ]
  },
  {
   "cell_type": "code",
   "execution_count": 2,
   "metadata": {},
   "outputs": [],
   "source": [
    "# dummy lineup class\n",
    "class Lineup:\n",
    "    def __init__(self, score):\n",
    "        # name only used to differentiate the lineup\n",
    "        self.name = namegenerator.gen()\n",
    "        self.gene = np.random.randint(2, size=20)\n",
    "        self.combat_power = np.count_nonzero(self.gene == 1)\n",
    "        self.score = score\n",
    "        \n",
    "    def to_dict(self):\n",
    "        return {\"name\": self.name, \n",
    "                \"gene\": ''.join(list(map(str, self.gene))),\n",
    "                \"combat_power\": self.combat_power,\n",
    "                \"score\": self.score}"
   ]
  },
  {
   "cell_type": "code",
   "execution_count": 3,
   "metadata": {
    "code_folding": []
   },
   "outputs": [],
   "source": [
    "# dummy battle class\n",
    "class Battle:\n",
    "    def __init__(self, lineup_a, lineup_b, result=None):\n",
    "        self.lineup_a = lineup_a\n",
    "        self.lineup_b = lineup_b\n",
    "        self.result = result"
   ]
  },
  {
   "cell_type": "code",
   "execution_count": 4,
   "metadata": {},
   "outputs": [],
   "source": [
    "# fight - compare number of 1s in the gene\n",
    "def fight(pair):\n",
    "    # save battle info for evaluation\n",
    "    battle = Battle(pair[0], pair[1])\n",
    "    if pair[0].combat_power > pair[1].combat_power:\n",
    "        battle.result = 'win'\n",
    "    else:\n",
    "        battle.result = 'loss'\n",
    "    return battle"
   ]
  },
  {
   "cell_type": "code",
   "execution_count": 5,
   "metadata": {},
   "outputs": [],
   "source": [
    "# evaluation\n",
    "def evaluate(battle):\n",
    "    if battle.result == \"win\":\n",
    "        battle.lineup_a.score += 1\n",
    "        battle.lineup_b.score -= 1\n",
    "    else:\n",
    "        battle.lineup_a.score -= 1\n",
    "        battle.lineup_b.score += 1"
   ]
  },
  {
   "cell_type": "code",
   "execution_count": null,
   "metadata": {},
   "outputs": [],
   "source": [
    "lineups = []\n",
    "generation_size = 20\n",
    "\n",
    "# initialize 20 lineups with initial score 50\n",
    "for i in range(generation_size):\n",
    "    lineups.append(Lineup(50))"
   ]
  },
  {
   "cell_type": "code",
   "execution_count": 12,
   "metadata": {},
   "outputs": [
    {
     "data": {
      "text/plain": [
       "[{'name': 'homey-plum-corgi',\n",
       "  'gene': '11101010111101110100',\n",
       "  'combat_power': 13,\n",
       "  'score': 55},\n",
       " {'name': 'craggy-corn-heron',\n",
       "  'gene': '01000011011110101101',\n",
       "  'combat_power': 11,\n",
       "  'score': 55},\n",
       " {'name': 'muggy-white-hound',\n",
       "  'gene': '11110000011111111101',\n",
       "  'combat_power': 14,\n",
       "  'score': 55},\n",
       " {'name': 'zippy-white-worm',\n",
       "  'gene': '10011100111101001111',\n",
       "  'combat_power': 13,\n",
       "  'score': 55},\n",
       " {'name': 'gimpy-cardinal-stoat',\n",
       "  'gene': '10110111011110100101',\n",
       "  'combat_power': 13,\n",
       "  'score': 53},\n",
       " {'name': 'hazy-apricot-chipmunk',\n",
       "  'gene': '00101101001111110001',\n",
       "  'combat_power': 11,\n",
       "  'score': 53},\n",
       " {'name': 'beady-azure-mole',\n",
       "  'gene': '10101100110111001110',\n",
       "  'combat_power': 12,\n",
       "  'score': 51},\n",
       " {'name': 'beady-lavender-whale',\n",
       "  'gene': '00011001111010101010',\n",
       "  'combat_power': 10,\n",
       "  'score': 51},\n",
       " {'name': 'snippy-maroon-coati',\n",
       "  'gene': '11110110000010001101',\n",
       "  'combat_power': 10,\n",
       "  'score': 51},\n",
       " {'name': 'cheeky-salmon-fossa',\n",
       "  'gene': '01001011000100011111',\n",
       "  'combat_power': 10,\n",
       "  'score': 51},\n",
       " {'name': 'wheezy-indigo-fowl',\n",
       "  'gene': '11101111001110001101',\n",
       "  'combat_power': 13,\n",
       "  'score': 49},\n",
       " {'name': 'foggy-cream-wrasse',\n",
       "  'gene': '11010001110011001101',\n",
       "  'combat_power': 11,\n",
       "  'score': 49},\n",
       " {'name': 'foggy-tan-argentino',\n",
       "  'gene': '00011010111010011100',\n",
       "  'combat_power': 10,\n",
       "  'score': 49},\n",
       " {'name': 'queasy-chocolate-olm',\n",
       "  'gene': '01001001110111101000',\n",
       "  'combat_power': 10,\n",
       "  'score': 49},\n",
       " {'name': 'hilly-cinnamon-wolverine',\n",
       "  'gene': '00001110001000111111',\n",
       "  'combat_power': 10,\n",
       "  'score': 47},\n",
       " {'name': 'gimpy-ruby-grouse',\n",
       "  'gene': '10001111000001100101',\n",
       "  'combat_power': 9,\n",
       "  'score': 47},\n",
       " {'name': 'sunny-smalt-tapir',\n",
       "  'gene': '10100101000101001001',\n",
       "  'combat_power': 8,\n",
       "  'score': 45},\n",
       " {'name': 'squirrely-magenta-labradoodle',\n",
       "  'gene': '10010001001101010000',\n",
       "  'combat_power': 7,\n",
       "  'score': 45},\n",
       " {'name': 'fuzzy-brown-snail',\n",
       "  'gene': '00111010000011110010',\n",
       "  'combat_power': 9,\n",
       "  'score': 45},\n",
       " {'name': 'craggy-viridian-chin',\n",
       "  'gene': '01111001000011010101',\n",
       "  'combat_power': 10,\n",
       "  'score': 45}]"
      ]
     },
     "execution_count": 12,
     "metadata": {},
     "output_type": "execute_result"
    }
   ],
   "source": [
    "# form battle pairs\n",
    "pairs = np.random.choice(lineups, size=(int(generation_size/2),2), replace=False)\n",
    "\n",
    "# fight\n",
    "battles = []\n",
    "for pair in pairs:\n",
    "    battles.append(fight(pair))\n",
    "    \n",
    "# evaluate\n",
    "list(map(evaluate, battles))\n",
    "\n",
    "# check linup dictionaries sorted by key score\n",
    "lineup_dict_list = list(map((lambda x: x.to_dict()), lineups))\n",
    "sorted(lineup_dict_list, key=lambda k: k['score'], reverse=True)"
   ]
  },
  {
   "cell_type": "code",
   "execution_count": null,
   "metadata": {},
   "outputs": [],
   "source": []
  }
 ],
 "metadata": {
  "kernelspec": {
   "display_name": "Python 3",
   "language": "python",
   "name": "python3"
  },
  "language_info": {
   "codemirror_mode": {
    "name": "ipython",
    "version": 3
   },
   "file_extension": ".py",
   "mimetype": "text/x-python",
   "name": "python",
   "nbconvert_exporter": "python",
   "pygments_lexer": "ipython3",
   "version": "3.7.2"
  }
 },
 "nbformat": 4,
 "nbformat_minor": 2
}
